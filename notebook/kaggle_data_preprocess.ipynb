{
 "cells": [
  {
   "cell_type": "code",
   "execution_count": null,
   "id": "86053fa4-21f3-4599-a457-d428057c1090",
   "metadata": {},
   "outputs": [
    {
     "name": "stdout",
     "output_type": "stream",
     "text": [
      "Files loaded successfully from 'data/raw'.\n",
      "DataFrames merged. Total jobs: 12217\n",
      "Converted 'job_skills' string to a list.\n",
      "\n",
      "--- Final Processed Data Sample (Lean Version) ---\n"
     ]
    },
    {
     "name": "stderr",
     "output_type": "stream",
     "text": [
      "C:\\Users\\aghar\\AppData\\Local\\Temp\\ipykernel_7396\\648234239.py:23: FutureWarning: A value is trying to be set on a copy of a DataFrame or Series through chained assignment using an inplace method.\n",
      "The behavior will change in pandas 3.0. This inplace method will never work because the intermediate object on which we are setting values always behaves as a copy.\n",
      "\n",
      "For example, when doing 'df[col].method(value, inplace=True)', try using 'df.method({col: value}, inplace=True)' or df[col] = df[col].method(value) instead, to perform the operation inplace on the original object.\n",
      "\n",
      "\n",
      "  merged_df['job_skills'].fillna('', inplace=True)\n"
     ]
    },
    {
     "data": {
      "text/html": [
       "<div>\n",
       "<style scoped>\n",
       "    .dataframe tbody tr th:only-of-type {\n",
       "        vertical-align: middle;\n",
       "    }\n",
       "\n",
       "    .dataframe tbody tr th {\n",
       "        vertical-align: top;\n",
       "    }\n",
       "\n",
       "    .dataframe thead th {\n",
       "        text-align: right;\n",
       "    }\n",
       "</style>\n",
       "<table border=\"1\" class=\"dataframe\">\n",
       "  <thead>\n",
       "    <tr style=\"text-align: right;\">\n",
       "      <th></th>\n",
       "      <th>job_link</th>\n",
       "      <th>job_title</th>\n",
       "      <th>company</th>\n",
       "      <th>skills_list</th>\n",
       "    </tr>\n",
       "  </thead>\n",
       "  <tbody>\n",
       "    <tr>\n",
       "      <th>0</th>\n",
       "      <td>https://www.linkedin.com/jobs/view/senior-mach...</td>\n",
       "      <td>Senior Machine Learning Engineer</td>\n",
       "      <td>Jobs for Humanity</td>\n",
       "      <td>[Machine Learning, Programming, Python, Scala,...</td>\n",
       "    </tr>\n",
       "    <tr>\n",
       "      <th>1</th>\n",
       "      <td>https://www.linkedin.com/jobs/view/principal-s...</td>\n",
       "      <td>Principal Software Engineer, ML Accelerators</td>\n",
       "      <td>Aurora</td>\n",
       "      <td>[C++, Python, PyTorch, TensorFlow, MXNet, CUDA...</td>\n",
       "    </tr>\n",
       "    <tr>\n",
       "      <th>2</th>\n",
       "      <td>https://www.linkedin.com/jobs/view/senior-etl-...</td>\n",
       "      <td>Senior ETL Data Warehouse Specialist</td>\n",
       "      <td>Adame Services LLC</td>\n",
       "      <td>[ETL, Data Integration, Data Transformation, D...</td>\n",
       "    </tr>\n",
       "    <tr>\n",
       "      <th>3</th>\n",
       "      <td>https://www.linkedin.com/jobs/view/senior-data...</td>\n",
       "      <td>Senior Data Warehouse Developer / Architect</td>\n",
       "      <td>Morph Enterprise</td>\n",
       "      <td>[Data Lakes, Data Bricks, Azure Data Factory P...</td>\n",
       "    </tr>\n",
       "    <tr>\n",
       "      <th>4</th>\n",
       "      <td>https://www.linkedin.com/jobs/view/lead-data-e...</td>\n",
       "      <td>Lead Data Engineer</td>\n",
       "      <td>Dice</td>\n",
       "      <td>[Java, Scala, Python, RDBMS, NoSQL, Redshift, ...</td>\n",
       "    </tr>\n",
       "  </tbody>\n",
       "</table>\n",
       "</div>"
      ],
      "text/plain": [
       "                                            job_link  \\\n",
       "0  https://www.linkedin.com/jobs/view/senior-mach...   \n",
       "1  https://www.linkedin.com/jobs/view/principal-s...   \n",
       "2  https://www.linkedin.com/jobs/view/senior-etl-...   \n",
       "3  https://www.linkedin.com/jobs/view/senior-data...   \n",
       "4  https://www.linkedin.com/jobs/view/lead-data-e...   \n",
       "\n",
       "                                      job_title             company  \\\n",
       "0              Senior Machine Learning Engineer   Jobs for Humanity   \n",
       "1  Principal Software Engineer, ML Accelerators              Aurora   \n",
       "2          Senior ETL Data Warehouse Specialist  Adame Services LLC   \n",
       "3   Senior Data Warehouse Developer / Architect    Morph Enterprise   \n",
       "4                            Lead Data Engineer                Dice   \n",
       "\n",
       "                                         skills_list  \n",
       "0  [Machine Learning, Programming, Python, Scala,...  \n",
       "1  [C++, Python, PyTorch, TensorFlow, MXNet, CUDA...  \n",
       "2  [ETL, Data Integration, Data Transformation, D...  \n",
       "3  [Data Lakes, Data Bricks, Azure Data Factory P...  \n",
       "4  [Java, Scala, Python, RDBMS, NoSQL, Redshift, ...  "
      ]
     },
     "metadata": {},
     "output_type": "display_data"
    },
    {
     "name": "stdout",
     "output_type": "stream",
     "text": [
      "\n",
      "Successfully saved the final lean data to '..\\data\\processed\\jobs_processed.csv'\n"
     ]
    }
   ],
   "source": [
    "import pandas as pd\n",
    "import os\n",
    "\n",
    "postings_path = os.path.join('..', 'data', 'raw', 'job_postings.csv')\n",
    "skills_path = os.path.join('..', 'data', 'raw', 'job_skills.csv')\n",
    "\n",
    "postings_df = pd.read_csv(postings_path)\n",
    "skills_df = pd.read_csv(skills_path)\n",
    "\n",
    "print(\"Files loaded successfully from 'data/raw'.\")\n",
    "\n",
    "#select columns only\n",
    "columns_to_keep = ['job_link', 'job_title', 'company']\n",
    "postings_subset_df = postings_df[columns_to_keep]\n",
    "\n",
    "#merge the dataframes\n",
    "merged_df = pd.merge(postings_subset_df, skills_df, on='job_link', how='inner')\n",
    "print(f\"DataFrames merged. Total jobs: {len(merged_df)}\")\n",
    "\n",
    "#clean the 'job_skills' column\n",
    "merged_df['job_skills'].fillna('', inplace=True)\n",
    "merged_df['skills_list'] = merged_df['job_skills'].apply(lambda s: [skill.strip() for skill in s.split(',')])\n",
    "print(\"Converted 'job_skills' string to a list.\")\n",
    "\n",
    "final_df = merged_df[['job_link', 'job_title', 'company', 'skills_list']]\n",
    "\n",
    "print(\"\\n--- Final Processed Data Sample ---\")\n",
    "display(final_df.head())\n",
    "\n",
    "#save to the 'processed' directory\n",
    "output_path = os.path.join('..', 'data', 'processed', 'jobs_processed.csv')\n",
    "os.makedirs(os.path.dirname(output_path), exist_ok=True) # This is good practice\n",
    "final_df.to_csv(output_path, index=False, encoding='utf-8')\n",
    "\n",
    "print(f\"\\nSuccessfully saved the final data to '{output_path}'\")"
   ]
  },
  {
   "cell_type": "code",
   "execution_count": null,
   "id": "34d732fe-3607-4d86-aee2-51dd1b51f1c7",
   "metadata": {},
   "outputs": [],
   "source": []
  }
 ],
 "metadata": {
  "kernelspec": {
   "display_name": "Python 3 (ipykernel)",
   "language": "python",
   "name": "python3"
  },
  "language_info": {
   "codemirror_mode": {
    "name": "ipython",
    "version": 3
   },
   "file_extension": ".py",
   "mimetype": "text/x-python",
   "name": "python",
   "nbconvert_exporter": "python",
   "pygments_lexer": "ipython3",
   "version": "3.12.10"
  }
 },
 "nbformat": 4,
 "nbformat_minor": 5
}
