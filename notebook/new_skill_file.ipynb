{
 "cells": [
  {
   "cell_type": "code",
   "execution_count": null,
   "id": "56010b83-61a6-4eba-a918-404dac75e604",
   "metadata": {},
   "outputs": [
    {
     "name": "stdout",
     "output_type": "stream",
     "text": [
      "--- Loading the skills dataset from job_skills.csv ---\n",
      "✅ Successfully loaded job_skills.csv\n",
      "✅ Isolated the 'job_skills' column.\n",
      "\n",
      "Here is a preview of the new DataFrame:\n"
     ]
    },
    {
     "data": {
      "text/html": [
       "<div>\n",
       "<style scoped>\n",
       "    .dataframe tbody tr th:only-of-type {\n",
       "        vertical-align: middle;\n",
       "    }\n",
       "\n",
       "    .dataframe tbody tr th {\n",
       "        vertical-align: top;\n",
       "    }\n",
       "\n",
       "    .dataframe thead th {\n",
       "        text-align: right;\n",
       "    }\n",
       "</style>\n",
       "<table border=\"1\" class=\"dataframe\">\n",
       "  <thead>\n",
       "    <tr style=\"text-align: right;\">\n",
       "      <th></th>\n",
       "      <th>job_skills</th>\n",
       "    </tr>\n",
       "  </thead>\n",
       "  <tbody>\n",
       "    <tr>\n",
       "      <th>0</th>\n",
       "      <td>Machine Learning, Programming, Python, Scala, ...</td>\n",
       "    </tr>\n",
       "    <tr>\n",
       "      <th>1</th>\n",
       "      <td>C++, Python, PyTorch, TensorFlow, MXNet, CUDA,...</td>\n",
       "    </tr>\n",
       "    <tr>\n",
       "      <th>2</th>\n",
       "      <td>ETL, Data Integration, Data Transformation, Da...</td>\n",
       "    </tr>\n",
       "    <tr>\n",
       "      <th>3</th>\n",
       "      <td>Data Lakes, Data Bricks, Azure Data Factory Pi...</td>\n",
       "    </tr>\n",
       "    <tr>\n",
       "      <th>4</th>\n",
       "      <td>Java, Scala, Python, RDBMS, NoSQL, Redshift, S...</td>\n",
       "    </tr>\n",
       "  </tbody>\n",
       "</table>\n",
       "</div>"
      ],
      "text/plain": [
       "                                          job_skills\n",
       "0  Machine Learning, Programming, Python, Scala, ...\n",
       "1  C++, Python, PyTorch, TensorFlow, MXNet, CUDA,...\n",
       "2  ETL, Data Integration, Data Transformation, Da...\n",
       "3  Data Lakes, Data Bricks, Azure Data Factory Pi...\n",
       "4  Java, Scala, Python, RDBMS, NoSQL, Redshift, S..."
      ]
     },
     "metadata": {},
     "output_type": "display_data"
    },
    {
     "name": "stdout",
     "output_type": "stream",
     "text": [
      "\n",
      "✅ Successfully created and saved 'skills_list.csv' to: ..\\data\\processed\\skills_list.csv\n"
     ]
    }
   ],
   "source": [
    "import pandas as pd\n",
    "import os\n",
    "\n",
    "print(\"Loading the skills dataset \")\n",
    "# Define the path to the input file in the 'raw' data directory\n",
    "input_file_path = os.path.join('..', 'data', 'raw', 'job_skills.csv')\n",
    "\n",
    "try:\n",
    "    # Read the original CSV file into a pandas DataFrame\n",
    "    df = pd.read_csv(input_file_path)\n",
    "    print(\"Successfully loaded job_skills.csv\")\n",
    "\n",
    "    # --- Select only the 'job_skills' column ---\n",
    "    # Create a new DataFrame containing just this single column\n",
    "    skills_df = df[['job_skills']]\n",
    "\n",
    "    print(f\"Isolated the 'job_skills' column.\")\n",
    "    print(\"\\nHere is a preview of the new DataFrame:\")\n",
    "    display(skills_df.head())\n",
    "\n",
    "    # --- Save the new DataFrame to skills_list.csv ---\n",
    "    # Define the path for the output file in the 'processed' data directory\n",
    "    output_path = os.path.join('..', 'data', 'processed', 'skills_list.csv')\n",
    "    \n",
    "    # Save the single-column DataFrame to the new CSV file\n",
    "    skills_df.to_csv(output_path, index=False)\n",
    "\n",
    "    print(f\"\\nSuccessfully created and saved 'skills_list.csv' to: {output_path}\")\n",
    "\n",
    "except FileNotFoundError:\n",
    "    print(f\"Error: Could not find '{input_file_path}'. Please ensure the file is in the 'data/raw' directory.\")\n",
    "except KeyError:\n",
    "    print(\"Error: The 'job_skills' column was not found in the CSV file. Please check the column names.\")\n",
    "except Exception as e:\n",
    "    print(f\"An unexpected error occurred: {e}\")\n",
    "\n"
   ]
  },
  {
   "cell_type": "code",
   "execution_count": null,
   "id": "98c6830b-cc62-4788-bec8-8f6218b00591",
   "metadata": {},
   "outputs": [],
   "source": []
  }
 ],
 "metadata": {
  "kernelspec": {
   "display_name": "Python 3 (ipykernel)",
   "language": "python",
   "name": "python3"
  },
  "language_info": {
   "codemirror_mode": {
    "name": "ipython",
    "version": 3
   },
   "file_extension": ".py",
   "mimetype": "text/x-python",
   "name": "python",
   "nbconvert_exporter": "python",
   "pygments_lexer": "ipython3",
   "version": "3.12.10"
  }
 },
 "nbformat": 4,
 "nbformat_minor": 5
}
